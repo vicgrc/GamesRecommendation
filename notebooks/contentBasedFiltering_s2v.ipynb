{
 "cells": [
  {
   "cell_type": "code",
   "execution_count": 50,
   "metadata": {},
   "outputs": [
    {
     "data": {
      "text/html": [
       "<div>\n",
       "<style scoped>\n",
       "    .dataframe tbody tr th:only-of-type {\n",
       "        vertical-align: middle;\n",
       "    }\n",
       "\n",
       "    .dataframe tbody tr th {\n",
       "        vertical-align: top;\n",
       "    }\n",
       "\n",
       "    .dataframe thead th {\n",
       "        text-align: right;\n",
       "    }\n",
       "</style>\n",
       "<table border=\"1\" class=\"dataframe\">\n",
       "  <thead>\n",
       "    <tr style=\"text-align: right;\">\n",
       "      <th></th>\n",
       "      <th>Game</th>\n",
       "      <th>About the game</th>\n",
       "    </tr>\n",
       "  </thead>\n",
       "  <tbody>\n",
       "    <tr>\n",
       "      <th>0</th>\n",
       "      <td>The Elder Scrolls V Skyrim</td>\n",
       "      <td>epic fantasi reborn next chapter highli antici...</td>\n",
       "    </tr>\n",
       "    <tr>\n",
       "      <th>677</th>\n",
       "      <td>Fallout 4</td>\n",
       "      <td>bethesda game studio awardwin creator fallout ...</td>\n",
       "    </tr>\n",
       "    <tr>\n",
       "      <th>844</th>\n",
       "      <td>Fallout New Vegas</td>\n",
       "      <td>welcom vega new vega kind town dig grave prior...</td>\n",
       "    </tr>\n",
       "    <tr>\n",
       "      <th>1131</th>\n",
       "      <td>Left 4 Dead 2</td>\n",
       "      <td>set zombi apocalyps left 4 dead 2 l4d2 highli ...</td>\n",
       "    </tr>\n",
       "    <tr>\n",
       "      <th>1932</th>\n",
       "      <td>HuniePop</td>\n",
       "      <td>huniepop uniqu sim experi pc mac linux gamepla...</td>\n",
       "    </tr>\n",
       "  </tbody>\n",
       "</table>\n",
       "</div>"
      ],
      "text/plain": [
       "                            Game  \\\n",
       "0     The Elder Scrolls V Skyrim   \n",
       "677                    Fallout 4   \n",
       "844            Fallout New Vegas   \n",
       "1131               Left 4 Dead 2   \n",
       "1932                    HuniePop   \n",
       "\n",
       "                                         About the game  \n",
       "0     epic fantasi reborn next chapter highli antici...  \n",
       "677   bethesda game studio awardwin creator fallout ...  \n",
       "844   welcom vega new vega kind town dig grave prior...  \n",
       "1131  set zombi apocalyps left 4 dead 2 l4d2 highli ...  \n",
       "1932  huniepop uniqu sim experi pc mac linux gamepla...  "
      ]
     },
     "execution_count": 50,
     "metadata": {},
     "output_type": "execute_result"
    }
   ],
   "source": [
    "import pandas as pd\n",
    "from nltk.tokenize import word_tokenize\n",
    "from nltk.corpus import stopwords\n",
    "from nltk.stem import WordNetLemmatizer\n",
    "from nltk.stem import PorterStemmer\n",
    "from gensim.models.phrases import Phrases, Phraser\n",
    "import string\n",
    "import torch\n",
    "from sentence_transformers import SentenceTransformer, util\n",
    "import re\n",
    "\n",
    "# Function to reduce the memory usage of a DataFrame.\n",
    "def reduce_memory(df):\n",
    "    for col in df.columns:\n",
    "        if df[col].dtype == 'float64':\n",
    "            df[col] = df[col].astype('float32')\n",
    "        if df[col].dtype == 'int64':\n",
    "            df[col] = df[col].astype('int32')\n",
    "    return df\n",
    "\n",
    "# Generator function to load data in chunks.\n",
    "def data_generator(df, chunksize=10000):\n",
    "    for i in range(0, df.shape[0], chunksize):\n",
    "        yield df.iloc[i:i+chunksize]\n",
    "\n",
    "df = reduce_memory(pd.read_csv(\"data/Dataset.csv\"))\n",
    "\n",
    "df_s2v = df[['Game', 'About the game']].drop_duplicates()\n",
    "\n",
    "def preprocess_description(description):\n",
    "    if pd.isna(description):\n",
    "        return \"\"\n",
    "    description = re.sub(r'[^a-zA-Z0-9\\s]', '', description)\n",
    "    description = description.lower()\n",
    "    description = description.translate(str.maketrans(\"\", \"\", string.punctuation))\n",
    "    tokens = word_tokenize(description)\n",
    "    stop_words = set(stopwords.words('english'))\n",
    "    tokens = [word for word in tokens if word.lower() not in stop_words]\n",
    "    # lemmatizer = WordNetLemmatizer()\n",
    "    # tokens = [lemmatizer.lemmatize(word) for word in tokens]\n",
    "    stemmer = PorterStemmer()\n",
    "    tokens = [stemmer.stem(word) for word in tokens]\n",
    "    return tokens\n",
    "    # return ' '.join(tokens)\n",
    "\n",
    "df_s2v['About the game'] = df_s2v['About the game'].apply(lambda x: preprocess_description(x))\n",
    "\n",
    "# Build Bigrams\n",
    "# phrases = Phrases(df_s2v['About the game'])\n",
    "# bigram = Phraser(phrases)\n",
    "# df_s2v['About the game'] = df_s2v['About the game'].apply(lambda x: bigram[x])\n",
    "\n",
    "# Build token in text\n",
    "df_s2v['About the game'] = df_s2v['About the game'].apply(lambda x: ' '.join(x))\n",
    "\n",
    "df_s2v.head()"
   ]
  },
  {
   "cell_type": "code",
   "execution_count": 65,
   "metadata": {},
   "outputs": [],
   "source": [
    "# model = SentenceTransformer(\"sentence-transformers/distiluse-base-multilingual-cased-v2\")\n",
    "# model.save('./models/distiluse-base-multilingual-cased-v2')\n",
    "\n",
    "loaded_model = SentenceTransformer('./models/distiluse-base-multilingual-cased-v2')"
   ]
  },
  {
   "cell_type": "code",
   "execution_count": null,
   "metadata": {},
   "outputs": [],
   "source": [
    "all_descriptions = df_s2v['About the game'].tolist()\n",
    "all_embeddings = loaded_model.encode(all_descriptions)"
   ]
  },
  {
   "cell_type": "code",
   "execution_count": 54,
   "metadata": {},
   "outputs": [
    {
     "data": {
      "text/plain": [
       "'welcom vega new vega kind town dig grave prior shot head left deadand that thing realli get ugli town dreamer desperado torn apart war faction vy complet control desert oasi place right kind person right kind weaponri realli make name make enemi two along way battl way across heatblast mojav wasteland coloss hoover dam neon drench vega strip youll introduc color cast charact powerhungri faction special weapon mutat creatur much choos side upcom war declar winner take crown king new vega followup 2008 videogam year fallout 3 enjoy stay key featur feel heat new vega even nuclear fallout could slow hustl sin citi explor vast expans desert wasteland small town dot mojav wasteland bright light new vega strip see great southwest could imagin fallout feud faction color charact host hostil war brew rival faction consequ chang live inhabit new vega choic make bring contact countless charact creatur alli foe determin final explos outcom epic power struggl new system enjoy new addit fallout new vega companion wheel streamlin direct companion reput system track consequ action aptli titl hardcor mode separ meek mighti special mele combat move ad bring new mean phrase close person use vat paus time combat target specif enemi bodi part queue attack get right action use finelytun realtim combat mechan arsen shini new gun doubl amount weapon found fallout 3 youll enough new excit way deal threat wasteland local addit vaulttec engin devis new weapon configur system let tinker toy see modif make real time let ride huge open world unlimit option see sight choos side go alon peacemak hard case hous rule wild card play game'"
      ]
     },
     "execution_count": 54,
     "metadata": {},
     "output_type": "execute_result"
    }
   ],
   "source": [
    "len(all_descriptions[2])\n",
    "all_descriptions[2]"
   ]
  },
  {
   "cell_type": "code",
   "execution_count": 55,
   "metadata": {},
   "outputs": [
    {
     "data": {
      "text/plain": [
       "512"
      ]
     },
     "execution_count": 55,
     "metadata": {},
     "output_type": "execute_result"
    }
   ],
   "source": [
    "len(all_embeddings[0])\n",
    "# all_embeddings[0]"
   ]
  },
  {
   "cell_type": "code",
   "execution_count": 58,
   "metadata": {},
   "outputs": [],
   "source": [
    "# Fonction pour obtenir les jeux recommandés\n",
    "def get_recommendations(input_embedding, df_s2v, all_embeddings, top_n=15):\n",
    "    # Calculer la similarité cosinus entre le jeu d'entrée et tous les autres jeux\n",
    "    similarities = util.pytorch_cos_sim(torch.tensor([input_embedding]), torch.tensor(all_embeddings))[0]\n",
    "\n",
    "    # Obtenir les indices des jeux les plus similaires\n",
    "    similar_indices = similarities.argsort(descending=True)[1:top_n+1]\n",
    "\n",
    "    # Obtenir les jeux les plus similaires et leurs valeurs de similarité\n",
    "    similar_games = df_s2v.iloc[similar_indices]['Game'].tolist()\n",
    "    similarity_values = similarities[similar_indices].tolist()\n",
    "\n",
    "    return list(zip(similar_games, similarity_values))"
   ]
  },
  {
   "cell_type": "code",
   "execution_count": 59,
   "metadata": {},
   "outputs": [
    {
     "name": "stdout",
     "output_type": "stream",
     "text": [
      "Input Title: Call of Duty Black Ops\n",
      "Recommendations:\n",
      "Call of Duty Modern Warfare 3 - Similarity: 0.7037\n",
      "Call of Duty - Similarity: 0.7022\n",
      "Call of Duty 4 Modern Warfare - Similarity: 0.6817\n",
      "Call of Duty World at War - Similarity: 0.6733\n",
      "Return to Castle Wolfenstein - Similarity: 0.6448\n",
      "Section 8 Prejudice - Similarity: 0.6409\n",
      "Dishonored - Similarity: 0.6346\n",
      "Star Wolves 3 Civil War - Similarity: 0.6327\n",
      "Avadon The Black Fortress - Similarity: 0.6297\n",
      "Enclave - Similarity: 0.6281\n",
      "Project Snowblind - Similarity: 0.6275\n",
      "Supreme Commander 2 - Similarity: 0.6215\n",
      "Serious Sam 3 BFE - Similarity: 0.6181\n",
      "Warhammer End Times - Vermintide - Similarity: 0.6170\n",
      "SanctuaryRPG Black Edition - Similarity: 0.6146\n"
     ]
    }
   ],
   "source": [
    "# Exemple d'utilisation\n",
    "input_title = \"Call of Duty Black Ops\"\n",
    "input_description = df_s2v[df_s2v['Game'] == input_title]['About the game'].values[0]\n",
    "input_embedding = loaded_model.encode([input_description])[0]\n",
    "recommendations = get_recommendations(input_embedding, df_s2v, all_embeddings)\n",
    "\n",
    "print(f\"Input Title: {input_title}\")\n",
    "print(\"Recommendations:\")\n",
    "for game, similarity in recommendations:\n",
    "    print(f\"{game} - Similarity: {similarity:.4f}\")"
   ]
  },
  {
   "cell_type": "code",
   "execution_count": null,
   "metadata": {},
   "outputs": [],
   "source": []
  }
 ],
 "metadata": {
  "kernelspec": {
   "display_name": "Majeur5ML",
   "language": "python",
   "name": "python3"
  },
  "language_info": {
   "codemirror_mode": {
    "name": "ipython",
    "version": 3
   },
   "file_extension": ".py",
   "mimetype": "text/x-python",
   "name": "python",
   "nbconvert_exporter": "python",
   "pygments_lexer": "ipython3",
   "version": "3.10.13"
  }
 },
 "nbformat": 4,
 "nbformat_minor": 2
}
